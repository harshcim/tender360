{
 "cells": [
  {
   "cell_type": "code",
   "execution_count": null,
   "metadata": {},
   "outputs": [],
   "source": [
    "import pandas as pd  # type: ignore"
   ]
  },
  {
   "cell_type": "code",
   "execution_count": 3,
   "metadata": {},
   "outputs": [],
   "source": [
    "data = pd.read_excel(\"/home/cimcon/Downloads/BOQ_1713788.xls\")"
   ]
  },
  {
   "cell_type": "code",
   "execution_count": 4,
   "metadata": {},
   "outputs": [],
   "source": [
    "header_row_index = data[data.isin([\"Item Description\"]).any(axis=1)].index[0]\n",
    "data.columns = data.iloc[header_row_index]  # Set header row as column names\n",
    "\n",
    "# Step 3: Exclude header row and filter relevant columns\n",
    "df = data[header_row_index + 1:]  # Skip the header row itself\n",
    "required_columns = [\"Sl.\\nNo.\", \"Item Description\", \"Quantity\", \"Units\"]"
   ]
  },
  {
   "cell_type": "code",
   "execution_count": 8,
   "metadata": {},
   "outputs": [
    {
     "data": {
      "text/html": [
       "<div>\n",
       "<style scoped>\n",
       "    .dataframe tbody tr th:only-of-type {\n",
       "        vertical-align: middle;\n",
       "    }\n",
       "\n",
       "    .dataframe tbody tr th {\n",
       "        vertical-align: top;\n",
       "    }\n",
       "\n",
       "    .dataframe thead th {\n",
       "        text-align: right;\n",
       "    }\n",
       "</style>\n",
       "<table border=\"1\" class=\"dataframe\">\n",
       "  <thead>\n",
       "    <tr style=\"text-align: right;\">\n",
       "      <th>9</th>\n",
       "      <th>Sl.\\nNo.</th>\n",
       "      <th>Item Description</th>\n",
       "      <th>Quantity</th>\n",
       "      <th>Units</th>\n",
       "    </tr>\n",
       "  </thead>\n",
       "  <tbody>\n",
       "    <tr>\n",
       "      <th>10</th>\n",
       "      <td>1</td>\n",
       "      <td>2</td>\n",
       "      <td>4</td>\n",
       "      <td>5</td>\n",
       "    </tr>\n",
       "    <tr>\n",
       "      <th>11</th>\n",
       "      <td>1</td>\n",
       "      <td>Cutting/dismentaling/taking out of bitumen roa...</td>\n",
       "      <td>80860.31</td>\n",
       "      <td>SQM</td>\n",
       "    </tr>\n",
       "    <tr>\n",
       "      <th>12</th>\n",
       "      <td>2</td>\n",
       "      <td>Bituminuos road</td>\n",
       "      <td>220655.47</td>\n",
       "      <td>SQM</td>\n",
       "    </tr>\n",
       "    <tr>\n",
       "      <th>13</th>\n",
       "      <td>3</td>\n",
       "      <td>Interlocking road(taking out and stacking)</td>\n",
       "      <td>150169.15</td>\n",
       "      <td>SQM</td>\n",
       "    </tr>\n",
       "    <tr>\n",
       "      <th>14</th>\n",
       "      <td>4</td>\n",
       "      <td>Excavation for following depth below ground le...</td>\n",
       "      <td>695785.14</td>\n",
       "      <td>cum</td>\n",
       "    </tr>\n",
       "    <tr>\n",
       "      <th>...</th>\n",
       "      <td>...</td>\n",
       "      <td>...</td>\n",
       "      <td>...</td>\n",
       "      <td>...</td>\n",
       "    </tr>\n",
       "    <tr>\n",
       "      <th>394</th>\n",
       "      <td>384</td>\n",
       "      <td>Running operation maitenance of 160 KVA DG Set...</td>\n",
       "      <td>180</td>\n",
       "      <td>Hrs.</td>\n",
       "    </tr>\n",
       "    <tr>\n",
       "      <th>395</th>\n",
       "      <td>385</td>\n",
       "      <td>Running operation maitenance of 380 KVA DG Set...</td>\n",
       "      <td>90</td>\n",
       "      <td>Hrs.</td>\n",
       "    </tr>\n",
       "    <tr>\n",
       "      <th>396</th>\n",
       "      <td>Total in Figures</td>\n",
       "      <td>NaN</td>\n",
       "      <td>NaN</td>\n",
       "      <td>NaN</td>\n",
       "    </tr>\n",
       "    <tr>\n",
       "      <th>397</th>\n",
       "      <td>Quoted Rate in Figures</td>\n",
       "      <td>NaN</td>\n",
       "      <td>NaN</td>\n",
       "      <td>Select</td>\n",
       "    </tr>\n",
       "    <tr>\n",
       "      <th>398</th>\n",
       "      <td>Quoted Rate in Words</td>\n",
       "      <td>NaN</td>\n",
       "      <td>NaN</td>\n",
       "      <td>NaN</td>\n",
       "    </tr>\n",
       "  </tbody>\n",
       "</table>\n",
       "<p>389 rows × 4 columns</p>\n",
       "</div>"
      ],
      "text/plain": [
       "9                  Sl.\\nNo.  \\\n",
       "10                        1   \n",
       "11                        1   \n",
       "12                        2   \n",
       "13                        3   \n",
       "14                        4   \n",
       "..                      ...   \n",
       "394                     384   \n",
       "395                     385   \n",
       "396        Total in Figures   \n",
       "397  Quoted Rate in Figures   \n",
       "398    Quoted Rate in Words   \n",
       "\n",
       "9                                     Item Description   Quantity   Units  \n",
       "10                                                   2          4       5  \n",
       "11   Cutting/dismentaling/taking out of bitumen roa...   80860.31     SQM  \n",
       "12                                     Bituminuos road  220655.47     SQM  \n",
       "13          Interlocking road(taking out and stacking)  150169.15     SQM  \n",
       "14   Excavation for following depth below ground le...  695785.14     cum  \n",
       "..                                                 ...        ...     ...  \n",
       "394  Running operation maitenance of 160 KVA DG Set...        180    Hrs.  \n",
       "395  Running operation maitenance of 380 KVA DG Set...         90    Hrs.  \n",
       "396                                                NaN        NaN     NaN  \n",
       "397                                                NaN        NaN  Select  \n",
       "398                                                NaN        NaN     NaN  \n",
       "\n",
       "[389 rows x 4 columns]"
      ]
     },
     "execution_count": 8,
     "metadata": {},
     "output_type": "execute_result"
    }
   ],
   "source": [
    "sheet = df[[\"Sl.\\nNo.\", \"Item Description\", \"Quantity\", \"Units\"]]\n",
    "sheet "
   ]
  },
  {
   "cell_type": "code",
   "execution_count": 19,
   "metadata": {},
   "outputs": [],
   "source": [
    "def find_keyword_in_column(df, column_name, keyword):\n",
    "                                                                                                                     \n",
    "    if column_name not in df.columns:\n",
    "        raise ValueError(f\"Column '{column_name}' not found in DataFrame.\")\n",
    "    \n",
    "    # Filter rows where the column contains the keyword\n",
    "    matching_items = df[column_name][df[column_name].str.contains(keyword, case=False, na=False)]\n",
    "    \n",
    "    if not matching_items.empty:\n",
    "        return True, matching_items.tolist()\n",
    "    else:\n",
    "        return False, None"
   ]
  },
  {
   "cell_type": "code",
   "execution_count": 42,
   "metadata": {},
   "outputs": [
    {
     "name": "stdout",
     "output_type": "stream",
     "text": [
      "(False, None)\n"
     ]
    }
   ],
   "source": [
    "keyword = \"Filter bed\"\n",
    "result = find_keyword_in_column(data, \"Item Description\", keyword)\n",
    "print(result)"
   ]
  },
  {
   "cell_type": "code",
   "execution_count": null,
   "metadata": {},
   "outputs": [],
   "source": []
  },
  {
   "cell_type": "code",
   "execution_count": null,
   "metadata": {},
   "outputs": [],
   "source": []
  }
 ],
 "metadata": {
  "kernelspec": {
   "display_name": "base",
   "language": "python",
   "name": "python3"
  },
  "language_info": {
   "codemirror_mode": {
    "name": "ipython",
    "version": 3
   },
   "file_extension": ".py",
   "mimetype": "text/x-python",
   "name": "python",
   "nbconvert_exporter": "python",
   "pygments_lexer": "ipython3",
   "version": "3.11.7"
  }
 },
 "nbformat": 4,
 "nbformat_minor": 2
}
